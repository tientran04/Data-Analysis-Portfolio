{
 "cells": [
  {
   "attachments": {},
   "cell_type": "markdown",
   "metadata": {},
   "source": [
    "## <span>1. Introduction</span>"
   ]
  },
  {
   "attachments": {},
   "cell_type": "markdown",
   "metadata": {},
   "source": [
    "Cyclistic is a fictional bike-share company in Chicago that offer many bike options for riders such as classic bikes, electric bikes, reclining bikes, hand tricycles and cargo bikes. The company offers three pricing plans: single-ride passes, full-day passes, and annual memberships. Riders who buy single-ride or full-day passes are considered as casual riders, meanwhile riders who buy annual memberships are Cyclistic members.\n",
    "The company want to increase the profit by maximizing the number of annual members since they realize that annual members bring more profit than casual riders."
   ]
  },
  {
   "attachments": {},
   "cell_type": "markdown",
   "metadata": {},
   "source": [
    "## <span>2. Objectives</span>"
   ]
  },
  {
   "attachments": {},
   "cell_type": "markdown",
   "metadata": {},
   "source": [
    "The purpose of this case study is to analyze the difference in using bike-share services between casual riders and annual members so that the Cyclistic marketing team can design a new marketing strategy to convert cuasual riders into annual members."
   ]
  },
  {
   "attachments": {},
   "cell_type": "markdown",
   "metadata": {},
   "source": [
    "## <span>3. Data source</span>"
   ]
  },
  {
   "attachments": {},
   "cell_type": "markdown",
   "metadata": {},
   "source": [
    "The data source used in this case study is bike-share data that belongs to Bikeshares, a company operates the City of Chicago’s (“City”) Divvy bicycle sharing service. Bikeshares has made the data public to access, reproduce, analyze, copy, modify and distribute according to the Data License Agreement on the website.\n",
    "The dataset is stored on https://divvybikes.com/system-data, which includes trip data from 2013 until now.\n",
    "\n",
    "The dataset I will use in this case study is the datset of year 2022, which includes 12 CSV files where each file stores the data of trips taken in each month from 01/2022 to 12/2022. The data of trip have been captures are:\n",
    "\n",
    "* Trip start day and time\n",
    "* Trip end day and time\n",
    "* Trip start station\n",
    "* Trip end station\n",
    "* Rider type (Member, Single Ride, and Day Pass)\n",
    "* Bike type"
   ]
  },
  {
   "attachments": {},
   "cell_type": "markdown",
   "metadata": {},
   "source": [
    "## 4. Data cleaning and preparation"
   ]
  },
  {
   "attachments": {},
   "cell_type": "markdown",
   "metadata": {},
   "source": [
    "In this section, I will use Python and following packages to perform data cleaning and preparation.\n",
    "* pandas\n",
    "* matplotlib.pyplot\n",
    "* matplotlib.ticker\n",
    "* glob\n",
    "* numpy"
   ]
  },
  {
   "attachments": {},
   "cell_type": "markdown",
   "metadata": {},
   "source": [
    "### 4.1. Import relevant packages"
   ]
  },
  {
   "cell_type": "code",
   "execution_count": 44,
   "metadata": {},
   "outputs": [],
   "source": [
    "# import relevant packages\n",
    "import pandas as pd\n",
    "import matplotlib.pyplot as plt\n",
    "import matplotlib.ticker as ticker\n",
    "import glob\n",
    "import numpy as np"
   ]
  },
  {
   "attachments": {},
   "cell_type": "markdown",
   "metadata": {},
   "source": [
    "### 4.2. Import dataset"
   ]
  },
  {
   "attachments": {},
   "cell_type": "markdown",
   "metadata": {},
   "source": [
    "The dataset being used are 12 CSV files as followings:\n",
    "* 202201-divvy-tripdata.csv\n",
    "* 202202-divvy-tripdata.csv\n",
    "* 202203-divvy-tripdata.csv\n",
    "* 202204-divvy-tripdata.csv\n",
    "* 202205-divvy-tripdata.csv\n",
    "* 202206-divvy-tripdata.csv\n",
    "* 202207-divvy-tripdata.csv\n",
    "* 202208-divvy-tripdata.csv\n",
    "* 202209-divvy-publictripdata.csv\n",
    "* 2022010-divvy-tripdata.csv\n",
    "* 2022011-divvy-tripdata.csv\n",
    "* 2022012-divvy-tripdata.csv\n",
    "\n",
    "I will import these files and combine them into a single dataframe."
   ]
  },
  {
   "cell_type": "code",
   "execution_count": 2,
   "metadata": {},
   "outputs": [],
   "source": [
    "# create a list of file paths\n",
    "folder_path = \".\"\n",
    "file_list = glob.glob(folder_path + \"/*.csv\")\n",
    "\n",
    "# load all data and concat them into a single dataframe\n",
    "trip_data = pd.DataFrame(pd.read_csv(file_list[0]))\n",
    "for i in range(1,len(file_list)):\n",
    "    data = pd.read_csv(file_list[i])\n",
    "    df = pd.DataFrame(data)\n",
    "    trip_data = pd.concat([trip_data,df],axis=0, ignore_index=True)"
   ]
  },
  {
   "attachments": {},
   "cell_type": "markdown",
   "metadata": {},
   "source": [
    "### 4.3. Preview dataset"
   ]
  },
  {
   "cell_type": "code",
   "execution_count": 3,
   "metadata": {},
   "outputs": [
    {
     "name": "stdout",
     "output_type": "stream",
     "text": [
      "<class 'pandas.core.frame.DataFrame'>\n",
      "RangeIndex: 5667717 entries, 0 to 5667716\n",
      "Data columns (total 13 columns):\n",
      " #   Column              Dtype  \n",
      "---  ------              -----  \n",
      " 0   ride_id             object \n",
      " 1   rideable_type       object \n",
      " 2   started_at          object \n",
      " 3   ended_at            object \n",
      " 4   start_station_name  object \n",
      " 5   start_station_id    object \n",
      " 6   end_station_name    object \n",
      " 7   end_station_id      object \n",
      " 8   start_lat           float64\n",
      " 9   start_lng           float64\n",
      " 10  end_lat             float64\n",
      " 11  end_lng             float64\n",
      " 12  member_casual       object \n",
      "dtypes: float64(4), object(9)\n",
      "memory usage: 562.1+ MB\n"
     ]
    }
   ],
   "source": [
    "# preview data attributes and data type\n",
    "trip_data.info()"
   ]
  },
  {
   "attachments": {},
   "cell_type": "markdown",
   "metadata": {},
   "source": [
    "The original dataset consists of 5,667,717 records and 13 attributes."
   ]
  },
  {
   "cell_type": "code",
   "execution_count": 4,
   "metadata": {},
   "outputs": [
    {
     "data": {
      "text/html": [
       "<div>\n",
       "<style scoped>\n",
       "    .dataframe tbody tr th:only-of-type {\n",
       "        vertical-align: middle;\n",
       "    }\n",
       "\n",
       "    .dataframe tbody tr th {\n",
       "        vertical-align: top;\n",
       "    }\n",
       "\n",
       "    .dataframe thead th {\n",
       "        text-align: right;\n",
       "    }\n",
       "</style>\n",
       "<table border=\"1\" class=\"dataframe\">\n",
       "  <thead>\n",
       "    <tr style=\"text-align: right;\">\n",
       "      <th></th>\n",
       "      <th>ride_id</th>\n",
       "      <th>rideable_type</th>\n",
       "      <th>started_at</th>\n",
       "      <th>ended_at</th>\n",
       "      <th>start_station_name</th>\n",
       "      <th>start_station_id</th>\n",
       "      <th>end_station_name</th>\n",
       "      <th>end_station_id</th>\n",
       "      <th>start_lat</th>\n",
       "      <th>start_lng</th>\n",
       "      <th>end_lat</th>\n",
       "      <th>end_lng</th>\n",
       "      <th>member_casual</th>\n",
       "    </tr>\n",
       "  </thead>\n",
       "  <tbody>\n",
       "    <tr>\n",
       "      <th>0</th>\n",
       "      <td>C2F7DD78E82EC875</td>\n",
       "      <td>electric_bike</td>\n",
       "      <td>2022-01-13 11:59:47</td>\n",
       "      <td>2022-01-13 12:02:44</td>\n",
       "      <td>Glenwood Ave &amp; Touhy Ave</td>\n",
       "      <td>525</td>\n",
       "      <td>Clark St &amp; Touhy Ave</td>\n",
       "      <td>RP-007</td>\n",
       "      <td>42.012800</td>\n",
       "      <td>-87.665906</td>\n",
       "      <td>42.012560</td>\n",
       "      <td>-87.674367</td>\n",
       "      <td>casual</td>\n",
       "    </tr>\n",
       "    <tr>\n",
       "      <th>1</th>\n",
       "      <td>A6CF8980A652D272</td>\n",
       "      <td>electric_bike</td>\n",
       "      <td>2022-01-10 08:41:56</td>\n",
       "      <td>2022-01-10 08:46:17</td>\n",
       "      <td>Glenwood Ave &amp; Touhy Ave</td>\n",
       "      <td>525</td>\n",
       "      <td>Clark St &amp; Touhy Ave</td>\n",
       "      <td>RP-007</td>\n",
       "      <td>42.012763</td>\n",
       "      <td>-87.665967</td>\n",
       "      <td>42.012560</td>\n",
       "      <td>-87.674367</td>\n",
       "      <td>casual</td>\n",
       "    </tr>\n",
       "    <tr>\n",
       "      <th>2</th>\n",
       "      <td>BD0F91DFF741C66D</td>\n",
       "      <td>classic_bike</td>\n",
       "      <td>2022-01-25 04:53:40</td>\n",
       "      <td>2022-01-25 04:58:01</td>\n",
       "      <td>Sheffield Ave &amp; Fullerton Ave</td>\n",
       "      <td>TA1306000016</td>\n",
       "      <td>Greenview Ave &amp; Fullerton Ave</td>\n",
       "      <td>TA1307000001</td>\n",
       "      <td>41.925602</td>\n",
       "      <td>-87.653708</td>\n",
       "      <td>41.925330</td>\n",
       "      <td>-87.665800</td>\n",
       "      <td>member</td>\n",
       "    </tr>\n",
       "    <tr>\n",
       "      <th>3</th>\n",
       "      <td>CBB80ED419105406</td>\n",
       "      <td>classic_bike</td>\n",
       "      <td>2022-01-04 00:18:04</td>\n",
       "      <td>2022-01-04 00:33:00</td>\n",
       "      <td>Clark St &amp; Bryn Mawr Ave</td>\n",
       "      <td>KA1504000151</td>\n",
       "      <td>Paulina St &amp; Montrose Ave</td>\n",
       "      <td>TA1309000021</td>\n",
       "      <td>41.983593</td>\n",
       "      <td>-87.669154</td>\n",
       "      <td>41.961507</td>\n",
       "      <td>-87.671387</td>\n",
       "      <td>casual</td>\n",
       "    </tr>\n",
       "    <tr>\n",
       "      <th>4</th>\n",
       "      <td>DDC963BFDDA51EEA</td>\n",
       "      <td>classic_bike</td>\n",
       "      <td>2022-01-20 01:31:10</td>\n",
       "      <td>2022-01-20 01:37:12</td>\n",
       "      <td>Michigan Ave &amp; Jackson Blvd</td>\n",
       "      <td>TA1309000002</td>\n",
       "      <td>State St &amp; Randolph St</td>\n",
       "      <td>TA1305000029</td>\n",
       "      <td>41.877850</td>\n",
       "      <td>-87.624080</td>\n",
       "      <td>41.884621</td>\n",
       "      <td>-87.627834</td>\n",
       "      <td>member</td>\n",
       "    </tr>\n",
       "  </tbody>\n",
       "</table>\n",
       "</div>"
      ],
      "text/plain": [
       "            ride_id  rideable_type           started_at             ended_at  \\\n",
       "0  C2F7DD78E82EC875  electric_bike  2022-01-13 11:59:47  2022-01-13 12:02:44   \n",
       "1  A6CF8980A652D272  electric_bike  2022-01-10 08:41:56  2022-01-10 08:46:17   \n",
       "2  BD0F91DFF741C66D   classic_bike  2022-01-25 04:53:40  2022-01-25 04:58:01   \n",
       "3  CBB80ED419105406   classic_bike  2022-01-04 00:18:04  2022-01-04 00:33:00   \n",
       "4  DDC963BFDDA51EEA   classic_bike  2022-01-20 01:31:10  2022-01-20 01:37:12   \n",
       "\n",
       "              start_station_name start_station_id  \\\n",
       "0       Glenwood Ave & Touhy Ave              525   \n",
       "1       Glenwood Ave & Touhy Ave              525   \n",
       "2  Sheffield Ave & Fullerton Ave     TA1306000016   \n",
       "3       Clark St & Bryn Mawr Ave     KA1504000151   \n",
       "4    Michigan Ave & Jackson Blvd     TA1309000002   \n",
       "\n",
       "                end_station_name end_station_id  start_lat  start_lng  \\\n",
       "0           Clark St & Touhy Ave         RP-007  42.012800 -87.665906   \n",
       "1           Clark St & Touhy Ave         RP-007  42.012763 -87.665967   \n",
       "2  Greenview Ave & Fullerton Ave   TA1307000001  41.925602 -87.653708   \n",
       "3      Paulina St & Montrose Ave   TA1309000021  41.983593 -87.669154   \n",
       "4         State St & Randolph St   TA1305000029  41.877850 -87.624080   \n",
       "\n",
       "     end_lat    end_lng member_casual  \n",
       "0  42.012560 -87.674367        casual  \n",
       "1  42.012560 -87.674367        casual  \n",
       "2  41.925330 -87.665800        member  \n",
       "3  41.961507 -87.671387        casual  \n",
       "4  41.884621 -87.627834        member  "
      ]
     },
     "execution_count": 4,
     "metadata": {},
     "output_type": "execute_result"
    }
   ],
   "source": [
    "# list top five records in the dataset\n",
    "trip_data.head(5)"
   ]
  },
  {
   "cell_type": "code",
   "execution_count": 5,
   "metadata": {},
   "outputs": [
    {
     "data": {
      "text/plain": [
       "ride_id               5667717\n",
       "rideable_type               3\n",
       "started_at            4745862\n",
       "ended_at              4758633\n",
       "start_station_name       1674\n",
       "start_station_id         1313\n",
       "end_station_name         1692\n",
       "end_station_id           1317\n",
       "start_lat              668346\n",
       "start_lng              631047\n",
       "end_lat                  1606\n",
       "end_lng                  1590\n",
       "member_casual               2\n",
       "dtype: int64"
      ]
     },
     "execution_count": 5,
     "metadata": {},
     "output_type": "execute_result"
    }
   ],
   "source": [
    "# number of unique values in each column\n",
    "trip_data.nunique()"
   ]
  },
  {
   "attachments": {},
   "cell_type": "markdown",
   "metadata": {},
   "source": [
    "### 4.4. Clean and format data"
   ]
  },
  {
   "attachments": {},
   "cell_type": "markdown",
   "metadata": {},
   "source": [
    "In this section I will look for any errors and inconsistencies in the data and then I will format the data."
   ]
  },
  {
   "attachments": {},
   "cell_type": "markdown",
   "metadata": {},
   "source": [
    "#### 4.4.1. Duplicates"
   ]
  },
  {
   "cell_type": "code",
   "execution_count": 6,
   "metadata": {},
   "outputs": [
    {
     "data": {
      "text/plain": [
       "False"
      ]
     },
     "execution_count": 6,
     "metadata": {},
     "output_type": "execute_result"
    }
   ],
   "source": [
    "# check for any duplicate in the dataset\n",
    "trip_data.duplicated().any()"
   ]
  },
  {
   "attachments": {},
   "cell_type": "markdown",
   "metadata": {},
   "source": [
    "There is no duplicate in the dataset."
   ]
  },
  {
   "attachments": {},
   "cell_type": "markdown",
   "metadata": {},
   "source": [
    "#### 4.4.2. Missing values"
   ]
  },
  {
   "cell_type": "code",
   "execution_count": 7,
   "metadata": {},
   "outputs": [
    {
     "data": {
      "text/plain": [
       "ride_id                    0\n",
       "rideable_type              0\n",
       "started_at                 0\n",
       "ended_at                   0\n",
       "start_station_name    833064\n",
       "start_station_id      833064\n",
       "end_station_name      892742\n",
       "end_station_id        892742\n",
       "start_lat                  0\n",
       "start_lng                  0\n",
       "end_lat                 5858\n",
       "end_lng                 5858\n",
       "member_casual              0\n",
       "dtype: int64"
      ]
     },
     "execution_count": 7,
     "metadata": {},
     "output_type": "execute_result"
    }
   ],
   "source": [
    "# check for any missing values in each column\n",
    "missing_values = trip_data.isna()\n",
    "missing_values.sum()"
   ]
  },
  {
   "attachments": {},
   "cell_type": "markdown",
   "metadata": {},
   "source": [
    "There are a lot of missing values about start station, end station and end coordinate information in the dataset. Before coming up with any approaches, I want to know how many rows that have missing values in the dataset and how big is it compared to the dataset."
   ]
  },
  {
   "cell_type": "code",
   "execution_count": 8,
   "metadata": {},
   "outputs": [
    {
     "data": {
      "text/plain": [
       "1298357"
      ]
     },
     "execution_count": 8,
     "metadata": {},
     "output_type": "execute_result"
    }
   ],
   "source": [
    "# calculate number of rows having missing values\n",
    "missing_value_row_count = missing_values.any(axis=1).sum()\n",
    "missing_value_row_count"
   ]
  },
  {
   "cell_type": "code",
   "execution_count": 9,
   "metadata": {},
   "outputs": [
    {
     "data": {
      "text/plain": [
       "22.91"
      ]
     },
     "execution_count": 9,
     "metadata": {},
     "output_type": "execute_result"
    }
   ],
   "source": [
    "# calculate the percentage of total rows having missing values\n",
    "percent_missing = (missing_value_row_count/trip_data.shape[0]) * 100\n",
    "percent_missing.round(2)"
   ]
  },
  {
   "attachments": {},
   "cell_type": "markdown",
   "metadata": {},
   "source": [
    "There are 1,298,357 rows having missing values and they are accounted for 22.91% data of the dataset."
   ]
  },
  {
   "attachments": {},
   "cell_type": "markdown",
   "metadata": {},
   "source": [
    "After considering the importance of these data if deleted and my objectives of analysis, I decide to apply following approaches:\n",
    "* Remove any row has missing values in column end_lat or end_lng since the number of these rows is small.\n",
    "* Keep rest of the data and replace missing values with \"unknown\" for user friendly."
   ]
  },
  {
   "cell_type": "code",
   "execution_count": 10,
   "metadata": {},
   "outputs": [],
   "source": [
    "# remove rows has missing values in columns end_lat or end_lng\n",
    "trip_data.dropna(subset=[\"end_lat\", \"end_lng\"], inplace=True)"
   ]
  },
  {
   "cell_type": "code",
   "execution_count": 11,
   "metadata": {},
   "outputs": [],
   "source": [
    "# replace missing values with \"Unkown\"\n",
    "trip_data.fillna(\"unknown\", inplace=True)"
   ]
  },
  {
   "cell_type": "code",
   "execution_count": 12,
   "metadata": {},
   "outputs": [
    {
     "data": {
      "text/plain": [
       "ride_id               0\n",
       "rideable_type         0\n",
       "started_at            0\n",
       "ended_at              0\n",
       "start_station_name    0\n",
       "start_station_id      0\n",
       "end_station_name      0\n",
       "end_station_id        0\n",
       "start_lat             0\n",
       "start_lng             0\n",
       "end_lat               0\n",
       "end_lng               0\n",
       "member_casual         0\n",
       "dtype: int64"
      ]
     },
     "execution_count": 12,
     "metadata": {},
     "output_type": "execute_result"
    }
   ],
   "source": [
    "# verify missing values again\n",
    "trip_data.isna().sum()"
   ]
  },
  {
   "attachments": {},
   "cell_type": "markdown",
   "metadata": {},
   "source": [
    "### 4.4.3. Convert datetime columns"
   ]
  },
  {
   "attachments": {},
   "cell_type": "markdown",
   "metadata": {},
   "source": [
    "There are two dateime columns in the dataset which are formated as object data types, so I will use to_datetime function to convert them into datetime data types with format as \"YYYY-mm-dd HH:MM:SS\"."
   ]
  },
  {
   "cell_type": "code",
   "execution_count": 13,
   "metadata": {},
   "outputs": [],
   "source": [
    "# convert started_at and ended_at columns into datetime\n",
    "trip_data[\"started_at\"] = pd.to_datetime(trip_data.started_at, format=\"%Y/%m/%d %H:%M:%S\")\n",
    "trip_data[\"ended_at\"] = pd.to_datetime(trip_data.ended_at, format=\"%Y/%m/%d %H:%M:%S\")"
   ]
  },
  {
   "attachments": {},
   "cell_type": "markdown",
   "metadata": {},
   "source": [
    "#### 4.4.4. Datetime validation"
   ]
  },
  {
   "attachments": {},
   "cell_type": "markdown",
   "metadata": {},
   "source": [
    "Since the bike is unlocked at one sation and locked again at another station. The time when the bike is locked again must be later compare to the time that the bike is unlocked."
   ]
  },
  {
   "attachments": {},
   "cell_type": "markdown",
   "metadata": {},
   "source": [
    "I will validate this condition by checking the difference between ended_at and started_at columns."
   ]
  },
  {
   "cell_type": "code",
   "execution_count": 14,
   "metadata": {},
   "outputs": [
    {
     "data": {
      "text/plain": [
       "True"
      ]
     },
     "execution_count": 14,
     "metadata": {},
     "output_type": "execute_result"
    }
   ],
   "source": [
    "# check if any record has ended_at < started_at\n",
    "(trip_data[\"ended_at\"] < trip_data[\"started_at\"]).any()"
   ]
  },
  {
   "cell_type": "code",
   "execution_count": 15,
   "metadata": {},
   "outputs": [
    {
     "data": {
      "text/plain": [
       "100"
      ]
     },
     "execution_count": 15,
     "metadata": {},
     "output_type": "execute_result"
    }
   ],
   "source": [
    "# check for number of records having ended_at < started_at\n",
    "trip_data.loc[trip_data[\"ended_at\"] < trip_data[\"started_at\"]].ride_id.count()"
   ]
  },
  {
   "attachments": {},
   "cell_type": "markdown",
   "metadata": {},
   "source": [
    "There are 100 records in our dataset have ended time < started time. So I will drop these records."
   ]
  },
  {
   "cell_type": "code",
   "execution_count": 16,
   "metadata": {},
   "outputs": [],
   "source": [
    "# drop records having ended_at < started_at\n",
    "trip_data = trip_data.loc[trip_data[\"ended_at\"] > trip_data[\"started_at\"]]"
   ]
  },
  {
   "cell_type": "code",
   "execution_count": 17,
   "metadata": {},
   "outputs": [
    {
     "data": {
      "text/plain": [
       "0"
      ]
     },
     "execution_count": 17,
     "metadata": {},
     "output_type": "execute_result"
    }
   ],
   "source": [
    "# verify again\n",
    "trip_data.loc[trip_data[\"ended_at\"] < trip_data[\"started_at\"]].ride_id.count()"
   ]
  },
  {
   "attachments": {},
   "cell_type": "markdown",
   "metadata": {},
   "source": [
    "### 4.4.5. Remove white space"
   ]
  },
  {
   "attachments": {},
   "cell_type": "markdown",
   "metadata": {},
   "source": [
    "I will use strip function to remove any leading and trailing spaces in column rideable_type, start_station_name, start_station_id, end_station_name, end_station_id, and member_casual."
   ]
  },
  {
   "cell_type": "code",
   "execution_count": 18,
   "metadata": {},
   "outputs": [],
   "source": [
    "# get list of columns then convert object columns to string and remove leading and traling spaces\n",
    "for col in trip_data.columns:\n",
    "    if trip_data[col].dtypes == \"object\":\n",
    "        new_col = trip_data[col].astype(\"str\")\n",
    "        trip_data[col] = new_col.str.strip()"
   ]
  },
  {
   "attachments": {},
   "cell_type": "markdown",
   "metadata": {},
   "source": [
    "## 5. Data Analysis"
   ]
  },
  {
   "attachments": {},
   "cell_type": "markdown",
   "metadata": {},
   "source": [
    "In this section I will analyze trip data to find trends in using bike-share services between casual riders and Cyclistic members."
   ]
  },
  {
   "attachments": {},
   "cell_type": "markdown",
   "metadata": {},
   "source": [
    "### 5.1. Proportion of members and casual trips"
   ]
  },
  {
   "attachments": {},
   "cell_type": "markdown",
   "metadata": {},
   "source": [
    "I want to see how is the proportion of trips by casual riders and Cyclistic members in 2022."
   ]
  },
  {
   "cell_type": "code",
   "execution_count": 19,
   "metadata": {},
   "outputs": [
    {
     "data": {
      "text/plain": [
       "member_casual\n",
       "casual    2316600\n",
       "member    3344728\n",
       "Name: ride_id, dtype: int64"
      ]
     },
     "execution_count": 19,
     "metadata": {},
     "output_type": "execute_result"
    }
   ],
   "source": [
    "# calculate total number of trips by member_casual\n",
    "member_casual_trip_count = trip_data.groupby(\"member_casual\")[\"ride_id\"].count()\n",
    "member_casual_trip_count"
   ]
  },
  {
   "cell_type": "code",
   "execution_count": 20,
   "metadata": {},
   "outputs": [
    {
     "data": {
      "image/png": "[encoded data removed]",
      "text/plain": [
       "<Figure size 1000x500 with 1 Axes>"
      ]
     },
     "metadata": {},
     "output_type": "display_data"
    }
   ],
   "source": [
    "# create pie chart\n",
    "fig, ax = plt.subplots(figsize=(10, 5))\n",
    "ax.pie(member_casual_trip_count, autopct='%.0f%%')\n",
    "ax.set_title(\"Trips distribution in 2022\")\n",
    "ax.legend(labels=member_casual_trip_count.index, loc=\"lower right\")\n",
    "plt.show()"
   ]
  },
  {
   "attachments": {},
   "cell_type": "markdown",
   "metadata": {},
   "source": [
    "In 2022, 59% of trips taken by Cyclistics member meanwhile the percentage for casual riders is 41%."
   ]
  },
  {
   "attachments": {},
   "cell_type": "markdown",
   "metadata": {},
   "source": [
    "### 5.2. Bike types preferences"
   ]
  },
  {
   "cell_type": "code",
   "execution_count": 21,
   "metadata": {},
   "outputs": [],
   "source": [
    "# calculate counts of bike types by member_casual\n",
    "bike_types_count = trip_data.groupby([\"member_casual\", \"rideable_type\"]).agg(trip_count=(\"ride_id\", \"count\"))"
   ]
  },
  {
   "cell_type": "code",
   "execution_count": 22,
   "metadata": {},
   "outputs": [
    {
     "data": {
      "text/html": [
       "<div>\n",
       "<style scoped>\n",
       "    .dataframe tbody tr th:only-of-type {\n",
       "        vertical-align: middle;\n",
       "    }\n",
       "\n",
       "    .dataframe tbody tr th {\n",
       "        vertical-align: top;\n",
       "    }\n",
       "\n",
       "    .dataframe thead th {\n",
       "        text-align: right;\n",
       "    }\n",
       "</style>\n",
       "<table border=\"1\" class=\"dataframe\">\n",
       "  <thead>\n",
       "    <tr style=\"text-align: right;\">\n",
       "      <th></th>\n",
       "      <th></th>\n",
       "      <th>trip_count</th>\n",
       "    </tr>\n",
       "    <tr>\n",
       "      <th>member_casual</th>\n",
       "      <th>rideable_type</th>\n",
       "      <th></th>\n",
       "    </tr>\n",
       "  </thead>\n",
       "  <tbody>\n",
       "    <tr>\n",
       "      <th rowspan=\"3\" valign=\"top\">casual</th>\n",
       "      <th>docked_bike</th>\n",
       "      <td>174852</td>\n",
       "    </tr>\n",
       "    <tr>\n",
       "      <th>classic_bike</th>\n",
       "      <td>888853</td>\n",
       "    </tr>\n",
       "    <tr>\n",
       "      <th>electric_bike</th>\n",
       "      <td>1252895</td>\n",
       "    </tr>\n",
       "    <tr>\n",
       "      <th rowspan=\"2\" valign=\"top\">member</th>\n",
       "      <th>electric_bike</th>\n",
       "      <td>1635735</td>\n",
       "    </tr>\n",
       "    <tr>\n",
       "      <th>classic_bike</th>\n",
       "      <td>1708993</td>\n",
       "    </tr>\n",
       "  </tbody>\n",
       "</table>\n",
       "</div>"
      ],
      "text/plain": [
       "                             trip_count\n",
       "member_casual rideable_type            \n",
       "casual        docked_bike        174852\n",
       "              classic_bike       888853\n",
       "              electric_bike     1252895\n",
       "member        electric_bike     1635735\n",
       "              classic_bike      1708993"
      ]
     },
     "execution_count": 22,
     "metadata": {},
     "output_type": "execute_result"
    }
   ],
   "source": [
    "bike_types_count.sort_values(by=\"trip_count\")"
   ]
  },
  {
   "cell_type": "code",
   "execution_count": 23,
   "metadata": {},
   "outputs": [
    {
     "data": {
      "image/png": "[encoded data removed]",
      "text/plain": [
       "<Figure size 640x480 with 2 Axes>"
      ]
     },
     "metadata": {},
     "output_type": "display_data"
    }
   ],
   "source": [
    "# create figure and axes\n",
    "fig, (ax1, ax2)= plt.subplots(1, 2, layout=\"constrained\")\n",
    "\n",
    "# set color mapping for labels\n",
    "colors = {\"classic_bike\": \"C1\", \"electric_bike\":\"C0\", \"docked_bike\":\"C2\"}\n",
    "\n",
    "# plot casual data\n",
    "label1 = bike_types_count.loc[\"casual\"].index\n",
    "size1 = bike_types_count.loc[\"casual\"][\"trip_count\"]\n",
    "ax1.pie(size1, labels=label1, autopct='%1.1f%%', colors=[colors[c] for c in label1])\n",
    "ax1.set_xlabel(\"Casual\", fontdict={\"size\": 14})\n",
    "\n",
    "# plot member data\n",
    "label2 = bike_types_count.loc[\"member\"].index\n",
    "size2 = bike_types_count.loc[\"member\"][\"trip_count\"]\n",
    "ax2.pie(size2, labels=label2, autopct='%1.1f%%', colors=[colors[c] for c in label2])\n",
    "ax2.set_xlabel(\"Members\", fontdict={\"size\": 14})\n",
    "\n",
    "fig.suptitle(\"Bike types preferences between casusual riders and members in 2022\", fontsize=14, y=0.9)\n",
    "\n",
    "plt.show()"
   ]
  },
  {
   "attachments": {},
   "cell_type": "markdown",
   "metadata": {},
   "source": [
    "Cyclistic members perfer using classic_bike a bit more than electric_bike, meanwhile casusal riders like to use electric_bike the most. Apart from classic_bike and electric_bike, casual riders also use other bikes."
   ]
  },
  {
   "attachments": {},
   "cell_type": "markdown",
   "metadata": {},
   "source": [
    "### 5.3. Monthly trips"
   ]
  },
  {
   "attachments": {},
   "cell_type": "markdown",
   "metadata": {},
   "source": [
    "I will analyze the data to see how is the trends between members and casual riders during the year."
   ]
  },
  {
   "cell_type": "code",
   "execution_count": 24,
   "metadata": {},
   "outputs": [],
   "source": [
    "# extract month value and assign to new column\n",
    "trip_data = trip_data.assign(month = trip_data[\"started_at\"].dt.month)"
   ]
  },
  {
   "cell_type": "code",
   "execution_count": 25,
   "metadata": {},
   "outputs": [],
   "source": [
    "# count trip by month and member_casual\n",
    "month_data = trip_data.groupby([\"member_casual\", \"month\"]).agg(trip_count=(\"ride_id\", \"count\"))"
   ]
  },
  {
   "cell_type": "code",
   "execution_count": 26,
   "metadata": {},
   "outputs": [
    {
     "data": {
      "text/html": [
       "<div>\n",
       "<style scoped>\n",
       "    .dataframe tbody tr th:only-of-type {\n",
       "        vertical-align: middle;\n",
       "    }\n",
       "\n",
       "    .dataframe tbody tr th {\n",
       "        vertical-align: top;\n",
       "    }\n",
       "\n",
       "    .dataframe thead tr th {\n",
       "        text-align: left;\n",
       "    }\n",
       "\n",
       "    .dataframe thead tr:last-of-type th {\n",
       "        text-align: right;\n",
       "    }\n",
       "</style>\n",
       "<table border=\"1\" class=\"dataframe\">\n",
       "  <thead>\n",
       "    <tr>\n",
       "      <th></th>\n",
       "      <th colspan=\"12\" halign=\"left\">trip_count</th>\n",
       "    </tr>\n",
       "    <tr>\n",
       "      <th>month</th>\n",
       "      <th>1</th>\n",
       "      <th>2</th>\n",
       "      <th>3</th>\n",
       "      <th>4</th>\n",
       "      <th>5</th>\n",
       "      <th>6</th>\n",
       "      <th>7</th>\n",
       "      <th>8</th>\n",
       "      <th>9</th>\n",
       "      <th>10</th>\n",
       "      <th>11</th>\n",
       "      <th>12</th>\n",
       "    </tr>\n",
       "    <tr>\n",
       "      <th>member_casual</th>\n",
       "      <th></th>\n",
       "      <th></th>\n",
       "      <th></th>\n",
       "      <th></th>\n",
       "      <th></th>\n",
       "      <th></th>\n",
       "      <th></th>\n",
       "      <th></th>\n",
       "      <th></th>\n",
       "      <th></th>\n",
       "      <th></th>\n",
       "      <th></th>\n",
       "    </tr>\n",
       "  </thead>\n",
       "  <tbody>\n",
       "    <tr>\n",
       "      <th>casual</th>\n",
       "      <td>18460</td>\n",
       "      <td>21359</td>\n",
       "      <td>89636</td>\n",
       "      <td>126102</td>\n",
       "      <td>279737</td>\n",
       "      <td>368060</td>\n",
       "      <td>405146</td>\n",
       "      <td>358130</td>\n",
       "      <td>296044</td>\n",
       "      <td>208584</td>\n",
       "      <td>100554</td>\n",
       "      <td>44788</td>\n",
       "    </tr>\n",
       "    <tr>\n",
       "      <th>member</th>\n",
       "      <td>85219</td>\n",
       "      <td>94168</td>\n",
       "      <td>194122</td>\n",
       "      <td>244799</td>\n",
       "      <td>354351</td>\n",
       "      <td>400023</td>\n",
       "      <td>417323</td>\n",
       "      <td>426882</td>\n",
       "      <td>404511</td>\n",
       "      <td>349561</td>\n",
       "      <td>236893</td>\n",
       "      <td>136876</td>\n",
       "    </tr>\n",
       "  </tbody>\n",
       "</table>\n",
       "</div>"
      ],
      "text/plain": [
       "              trip_count                                                 \\\n",
       "month                 1      2       3       4       5       6       7    \n",
       "member_casual                                                             \n",
       "casual             18460  21359   89636  126102  279737  368060  405146   \n",
       "member             85219  94168  194122  244799  354351  400023  417323   \n",
       "\n",
       "                                                       \n",
       "month              8       9       10      11      12  \n",
       "member_casual                                          \n",
       "casual         358130  296044  208584  100554   44788  \n",
       "member         426882  404511  349561  236893  136876  "
      ]
     },
     "execution_count": 26,
     "metadata": {},
     "output_type": "execute_result"
    }
   ],
   "source": [
    "month_data.unstack()"
   ]
  },
  {
   "cell_type": "code",
   "execution_count": 55,
   "metadata": {},
   "outputs": [
    {
     "data": {
      "image/png": "[encoded data removed]",
      "text/plain": [
       "<Figure size 640x480 with 1 Axes>"
      ]
     },
     "metadata": {},
     "output_type": "display_data"
    }
   ],
   "source": [
    "# creat double bar chart\n",
    "fig, ax = plt.subplots(layout='constrained')\n",
    "\n",
    "x = np.arange(12)\n",
    "width = 0.4\n",
    "\n",
    "# plot casual bar chart\n",
    "data1 = month_data.loc[\"casual\"][\"trip_count\"]\n",
    "ax.bar(x - width/2, data1, width, label=\"casual\")\n",
    "\n",
    "# plot member bar chart\n",
    "data2 = month_data.loc[\"member\"][\"trip_count\"]\n",
    "ax.bar(x + width/2, data2, width, label=\"member\")\n",
    "\n",
    "# set label, title and legend\n",
    "x_label = month_data.loc[\"member\"].index\n",
    "ax.set_xticks(x, x_label)\n",
    "ax.set_title(\"Number of trips during the year 2022\")\n",
    "ax.legend(loc='upper left')\n",
    "\n",
    "# format y ticks\n",
    "ax.yaxis.set_major_formatter(ticker.FuncFormatter(lambda x, pos: '{:,d}'.format(round(x/1000)) + 'K'))"
   ]
  },
  {
   "attachments": {},
   "cell_type": "markdown",
   "metadata": {},
   "source": [
    "From the graph, we can clearly see that the number of trips increased significantly in the middle of year from May to October for both members and casual riders. Casual riders have highest trips in July and the highest trips for members is in August."
   ]
  },
  {
   "attachments": {},
   "cell_type": "markdown",
   "metadata": {},
   "source": [
    "### 5.4. Average trips by days of the week"
   ]
  },
  {
   "cell_type": "code",
   "execution_count": 28,
   "metadata": {},
   "outputs": [],
   "source": [
    "# extract date and days of the week\n",
    "date_data = trip_data.assign(date = trip_data[\"started_at\"].dt.date, \n",
    "                             day_name = trip_data[\"started_at\"].dt.day_name())"
   ]
  },
  {
   "cell_type": "code",
   "execution_count": 29,
   "metadata": {},
   "outputs": [],
   "source": [
    "# group data by member_casual, date and days of the week\n",
    "date_data = date_data.groupby([\"member_casual\", \"date\", \"day_name\"], as_index=False).ride_id.count()"
   ]
  },
  {
   "cell_type": "code",
   "execution_count": 30,
   "metadata": {},
   "outputs": [],
   "source": [
    "# calculate average trips by member_casual and days of the week\n",
    "weekday_data = date_data.groupby([\"member_casual\", \"day_name\"]).agg(avg_trip = (\"ride_id\", \"mean\"))\n"
   ]
  },
  {
   "cell_type": "code",
   "execution_count": 31,
   "metadata": {},
   "outputs": [
    {
     "data": {
      "text/html": [
       "<div>\n",
       "<style scoped>\n",
       "    .dataframe tbody tr th:only-of-type {\n",
       "        vertical-align: middle;\n",
       "    }\n",
       "\n",
       "    .dataframe tbody tr th {\n",
       "        vertical-align: top;\n",
       "    }\n",
       "\n",
       "    .dataframe thead tr th {\n",
       "        text-align: left;\n",
       "    }\n",
       "\n",
       "    .dataframe thead tr:last-of-type th {\n",
       "        text-align: right;\n",
       "    }\n",
       "</style>\n",
       "<table border=\"1\" class=\"dataframe\">\n",
       "  <thead>\n",
       "    <tr>\n",
       "      <th></th>\n",
       "      <th colspan=\"7\" halign=\"left\">avg_trip</th>\n",
       "    </tr>\n",
       "    <tr>\n",
       "      <th>day_name</th>\n",
       "      <th>Friday</th>\n",
       "      <th>Monday</th>\n",
       "      <th>Saturday</th>\n",
       "      <th>Sunday</th>\n",
       "      <th>Thursday</th>\n",
       "      <th>Tuesday</th>\n",
       "      <th>Wednesday</th>\n",
       "    </tr>\n",
       "    <tr>\n",
       "      <th>member_casual</th>\n",
       "      <th></th>\n",
       "      <th></th>\n",
       "      <th></th>\n",
       "      <th></th>\n",
       "      <th></th>\n",
       "      <th></th>\n",
       "      <th></th>\n",
       "    </tr>\n",
       "  </thead>\n",
       "  <tbody>\n",
       "    <tr>\n",
       "      <th>casual</th>\n",
       "      <td>6421</td>\n",
       "      <td>5328</td>\n",
       "      <td>8906</td>\n",
       "      <td>7461</td>\n",
       "      <td>5936</td>\n",
       "      <td>5061</td>\n",
       "      <td>5266</td>\n",
       "    </tr>\n",
       "    <tr>\n",
       "      <th>member</th>\n",
       "      <td>8980</td>\n",
       "      <td>9100</td>\n",
       "      <td>8361</td>\n",
       "      <td>7444</td>\n",
       "      <td>10233</td>\n",
       "      <td>9971</td>\n",
       "      <td>10072</td>\n",
       "    </tr>\n",
       "  </tbody>\n",
       "</table>\n",
       "</div>"
      ],
      "text/plain": [
       "              avg_trip                                                  \n",
       "day_name        Friday Monday Saturday Sunday Thursday Tuesday Wednesday\n",
       "member_casual                                                           \n",
       "casual            6421   5328     8906   7461     5936    5061      5266\n",
       "member            8980   9100     8361   7444    10233    9971     10072"
      ]
     },
     "execution_count": 31,
     "metadata": {},
     "output_type": "execute_result"
    }
   ],
   "source": [
    "# sort indexs\n",
    "day_name = ['Monday', 'Tuesday', 'Wednesday', 'Thursday', 'Friday', 'Saturday', 'Sunday']\n",
    "member_casual = [\"casual\", \"member\"]\n",
    "weekday_data = weekday_data.reindex(pd.MultiIndex.from_product([member_casual, day_name], \n",
    "                                                               names=[\"member_casual\", \"day_name\"]))\n",
    "weekday_data = weekday_data.round(0).astype(\"int\")\n",
    "weekday_data.unstack()"
   ]
  },
  {
   "cell_type": "code",
   "execution_count": 32,
   "metadata": {},
   "outputs": [
    {
     "data": {
      "text/plain": [
       "<matplotlib.legend.Legend at 0x161a36ae310>"
      ]
     },
     "execution_count": 32,
     "metadata": {},
     "output_type": "execute_result"
    },
    {
     "data": {
      "image/png": "[encoded data removed]",
      "text/plain": [
       "<Figure size 640x480 with 1 Axes>"
      ]
     },
     "metadata": {},
     "output_type": "display_data"
    }
   ],
   "source": [
    "# plot data on bar chart\n",
    "fig, ax = plt.subplots(layout='constrained')\n",
    "\n",
    "x = np.arange(7)\n",
    "width = 0.4\n",
    "\n",
    "# plot casual bar chart\n",
    "data1 = weekday_data.loc[\"casual\"][\"avg_trip\"]\n",
    "ax.bar(x - width/2, data1, width, label=\"casual\")\n",
    "\n",
    "# plot member bar chart\n",
    "data2 = weekday_data.loc[\"member\"][\"avg_trip\"]\n",
    "ax.bar(x + width/2, data2, width, label=\"member\")\n",
    "\n",
    "# set label, title and legend\n",
    "x_label = weekday_data.loc[\"member\"].index\n",
    "ax.set_xticks(x, x_label)\n",
    "ax.set_title(\"Average trips by days of the week\")\n",
    "ax.legend(loc='upper left')"
   ]
  },
  {
   "attachments": {},
   "cell_type": "markdown",
   "metadata": {},
   "source": [
    "We can see that members use bike-share services in weekday more than weekend meanwhile casual riders is on the contrary."
   ]
  },
  {
   "attachments": {},
   "cell_type": "markdown",
   "metadata": {},
   "source": [
    "### 5.5. Hourly trips throughout the day"
   ]
  },
  {
   "cell_type": "code",
   "execution_count": 33,
   "metadata": {},
   "outputs": [],
   "source": [
    "# extract date and hour data\n",
    "date_hour_data = trip_data.assign(date = trip_data[\"started_at\"].dt.date, \n",
    "                             hour = trip_data[\"started_at\"].dt.hour)"
   ]
  },
  {
   "cell_type": "code",
   "execution_count": 34,
   "metadata": {},
   "outputs": [],
   "source": [
    "# count trips by member_casual, date and hour\n",
    "date_hour_data = date_hour_data.groupby([\"member_casual\", \"date\", \"hour\"], as_index=False).ride_id.count()"
   ]
  },
  {
   "cell_type": "code",
   "execution_count": 35,
   "metadata": {},
   "outputs": [],
   "source": [
    "# calculate average number of trips by member_casual and hour\n",
    "hour_data = date_hour_data.groupby([\"member_casual\", \"hour\"]).agg(avg_trip = (\"ride_id\", \"mean\"))"
   ]
  },
  {
   "cell_type": "code",
   "execution_count": 36,
   "metadata": {},
   "outputs": [
    {
     "data": {
      "text/html": [
       "<div>\n",
       "<style scoped>\n",
       "    .dataframe tbody tr th:only-of-type {\n",
       "        vertical-align: middle;\n",
       "    }\n",
       "\n",
       "    .dataframe tbody tr th {\n",
       "        vertical-align: top;\n",
       "    }\n",
       "\n",
       "    .dataframe thead tr th {\n",
       "        text-align: left;\n",
       "    }\n",
       "\n",
       "    .dataframe thead tr:last-of-type th {\n",
       "        text-align: right;\n",
       "    }\n",
       "</style>\n",
       "<table border=\"1\" class=\"dataframe\">\n",
       "  <thead>\n",
       "    <tr>\n",
       "      <th></th>\n",
       "      <th colspan=\"21\" halign=\"left\">avg_trip</th>\n",
       "    </tr>\n",
       "    <tr>\n",
       "      <th>hour</th>\n",
       "      <th>0</th>\n",
       "      <th>1</th>\n",
       "      <th>2</th>\n",
       "      <th>3</th>\n",
       "      <th>4</th>\n",
       "      <th>5</th>\n",
       "      <th>6</th>\n",
       "      <th>7</th>\n",
       "      <th>8</th>\n",
       "      <th>9</th>\n",
       "      <th>...</th>\n",
       "      <th>14</th>\n",
       "      <th>15</th>\n",
       "      <th>16</th>\n",
       "      <th>17</th>\n",
       "      <th>18</th>\n",
       "      <th>19</th>\n",
       "      <th>20</th>\n",
       "      <th>21</th>\n",
       "      <th>22</th>\n",
       "      <th>23</th>\n",
       "    </tr>\n",
       "    <tr>\n",
       "      <th>member_casual</th>\n",
       "      <th></th>\n",
       "      <th></th>\n",
       "      <th></th>\n",
       "      <th></th>\n",
       "      <th></th>\n",
       "      <th></th>\n",
       "      <th></th>\n",
       "      <th></th>\n",
       "      <th></th>\n",
       "      <th></th>\n",
       "      <th></th>\n",
       "      <th></th>\n",
       "      <th></th>\n",
       "      <th></th>\n",
       "      <th></th>\n",
       "      <th></th>\n",
       "      <th></th>\n",
       "      <th></th>\n",
       "      <th></th>\n",
       "      <th></th>\n",
       "      <th></th>\n",
       "    </tr>\n",
       "  </thead>\n",
       "  <tbody>\n",
       "    <tr>\n",
       "      <th>casual</th>\n",
       "      <td>128</td>\n",
       "      <td>84</td>\n",
       "      <td>52</td>\n",
       "      <td>31</td>\n",
       "      <td>21</td>\n",
       "      <td>34</td>\n",
       "      <td>81</td>\n",
       "      <td>141</td>\n",
       "      <td>191</td>\n",
       "      <td>198</td>\n",
       "      <td>...</td>\n",
       "      <td>437</td>\n",
       "      <td>488</td>\n",
       "      <td>541</td>\n",
       "      <td>604</td>\n",
       "      <td>540</td>\n",
       "      <td>414</td>\n",
       "      <td>307</td>\n",
       "      <td>262</td>\n",
       "      <td>236</td>\n",
       "      <td>177</td>\n",
       "    </tr>\n",
       "    <tr>\n",
       "      <th>member</th>\n",
       "      <td>99</td>\n",
       "      <td>61</td>\n",
       "      <td>36</td>\n",
       "      <td>22</td>\n",
       "      <td>25</td>\n",
       "      <td>88</td>\n",
       "      <td>250</td>\n",
       "      <td>473</td>\n",
       "      <td>560</td>\n",
       "      <td>394</td>\n",
       "      <td>...</td>\n",
       "      <td>507</td>\n",
       "      <td>607</td>\n",
       "      <td>799</td>\n",
       "      <td>957</td>\n",
       "      <td>780</td>\n",
       "      <td>565</td>\n",
       "      <td>397</td>\n",
       "      <td>311</td>\n",
       "      <td>238</td>\n",
       "      <td>156</td>\n",
       "    </tr>\n",
       "  </tbody>\n",
       "</table>\n",
       "<p>2 rows × 24 columns</p>\n",
       "</div>"
      ],
      "text/plain": [
       "              avg_trip                                          ...            \\\n",
       "hour                0   1   2   3   4   5    6    7    8    9   ...   14   15   \n",
       "member_casual                                                   ...             \n",
       "casual             128  84  52  31  21  34   81  141  191  198  ...  437  488   \n",
       "member              99  61  36  22  25  88  250  473  560  394  ...  507  607   \n",
       "\n",
       "                                                       \n",
       "hour            16   17   18   19   20   21   22   23  \n",
       "member_casual                                          \n",
       "casual         541  604  540  414  307  262  236  177  \n",
       "member         799  957  780  565  397  311  238  156  \n",
       "\n",
       "[2 rows x 24 columns]"
      ]
     },
     "execution_count": 36,
     "metadata": {},
     "output_type": "execute_result"
    }
   ],
   "source": [
    "# cast data to integer\n",
    "hour_data = hour_data.round().astype(\"int\")\n",
    "hour_data.unstack()"
   ]
  },
  {
   "cell_type": "code",
   "execution_count": 37,
   "metadata": {},
   "outputs": [
    {
     "data": {
      "text/plain": [
       "<matplotlib.legend.Legend at 0x161c927d2b0>"
      ]
     },
     "execution_count": 37,
     "metadata": {},
     "output_type": "execute_result"
    },
    {
     "data": {
      "image/png": "[encoded data removed]",
      "text/plain": [
       "<Figure size 640x480 with 1 Axes>"
      ]
     },
     "metadata": {},
     "output_type": "display_data"
    }
   ],
   "source": [
    "# plot data on bar chart\n",
    "fig, ax = plt.subplots(layout='constrained')\n",
    "\n",
    "x = np.arange(24)\n",
    "width = 0.4\n",
    "\n",
    "# plot casual bar chart\n",
    "data1 = hour_data.loc[\"casual\"][\"avg_trip\"]\n",
    "ax.bar(x - width/2, data1, width, label=\"casual\")\n",
    "\n",
    "# plot member bar chart\n",
    "data2 = hour_data.loc[\"member\"][\"avg_trip\"]\n",
    "ax.bar(x + width/2, data2, width, label=\"member\")\n",
    "\n",
    "# set label, title and legend\n",
    "x_label = hour_data.loc[\"member\"].index\n",
    "ax.set_xticks(x, x_label)\n",
    "ax.set_title(\"Hourly trips throughout the day\")\n",
    "ax.legend(loc='upper left')"
   ]
  },
  {
   "attachments": {},
   "cell_type": "markdown",
   "metadata": {},
   "source": [
    "The above bar chart shows that more trips are taken in the day time. Both members and casual riders use bike-share services more in the afternoon and the peak time is at 5 PM."
   ]
  },
  {
   "attachments": {},
   "cell_type": "markdown",
   "metadata": {},
   "source": [
    "### 5.6. Average trip duration"
   ]
  },
  {
   "cell_type": "code",
   "execution_count": 38,
   "metadata": {},
   "outputs": [],
   "source": [
    "# caculate trip duration in minutes\n",
    "duration_data = trip_data.assign(\n",
    "    duration = (trip_data[\"ended_at\"] - trip_data[\"started_at\"])/pd.Timedelta(minutes=1))"
   ]
  },
  {
   "cell_type": "code",
   "execution_count": 39,
   "metadata": {},
   "outputs": [],
   "source": [
    "duration_data[\"duration\"] = duration_data[\"duration\"].round(2)"
   ]
  },
  {
   "cell_type": "code",
   "execution_count": 40,
   "metadata": {},
   "outputs": [
    {
     "data": {
      "text/plain": [
       "member_casual\n",
       "casual    21.99\n",
       "member    12.41\n",
       "Name: duration, dtype: float64"
      ]
     },
     "execution_count": 40,
     "metadata": {},
     "output_type": "execute_result"
    }
   ],
   "source": [
    "# statistic of trip duration\n",
    "average_duration = duration_data.groupby([\"member_casual\"]).duration.mean().round(2)\n",
    "average_duration"
   ]
  },
  {
   "cell_type": "code",
   "execution_count": 41,
   "metadata": {},
   "outputs": [
    {
     "data": {
      "image/png": "[encoded data removed]",
      "text/plain": [
       "<Figure size 640x480 with 1 Axes>"
      ]
     },
     "metadata": {},
     "output_type": "display_data"
    }
   ],
   "source": [
    "# plot data on bar chart\n",
    "fig, ax = plt.subplots()\n",
    "\n",
    "label = (\"member\", \"casual\")\n",
    "y_pos = np.arange(len(label))\n",
    "\n",
    "ax.barh(y_pos, average_duration, color=[\"C1\", \"C0\"])\n",
    "ax.set_yticks(y_pos, labels=label)\n",
    "ax.set_title('Average trip duration in minute')\n",
    "\n",
    "plt.show()"
   ]
  },
  {
   "attachments": {},
   "cell_type": "markdown",
   "metadata": {},
   "source": [
    "In general, we can see that casual riders have longer trip than members with 22 minutes compared to 12.4 minutes."
   ]
  },
  {
   "attachments": {},
   "cell_type": "markdown",
   "metadata": {},
   "source": [
    "## 6. Conclusions"
   ]
  },
  {
   "attachments": {},
   "cell_type": "markdown",
   "metadata": {},
   "source": [
    "* In 2022, members use bike-share services more than casual riders with 59% of total trips.\n",
    "* Casula rider prefer electric bike the most, while members like to use classic bike than electric bike.\n",
    "* Both members and casual riders made more trips in warmer months from May to Octorber.\n",
    "* Casual riders use bike-share services more in the weekends meanwhile membres use them more in weekday.\n",
    "* Both membres and casual riders use more bike-share services in the afternoon and the peak time is 5PM.\n",
    "* Casual riders take longer trips than members."
   ]
  }
 ],
 "metadata": {
  "kernelspec": {
   "display_name": "env",
   "language": "python",
   "name": "python3"
  },
  "language_info": {
   "codemirror_mode": {
    "name": "ipython",
    "version": 3
   },
   "file_extension": ".py",
   "mimetype": "text/x-python",
   "name": "python",
   "nbconvert_exporter": "python",
   "pygments_lexer": "ipython3",
   "version": "3.9.5"
  },
  "orig_nbformat": 4,
  "vscode": {
   "interpreter": {
    "hash": "d3ee9749ece4a75e3986db77cfb900002381c78fbe316328b48a61ee1b1cd43d"
   }
  }
 },
 "nbformat": 4,
 "nbformat_minor": 2
}
